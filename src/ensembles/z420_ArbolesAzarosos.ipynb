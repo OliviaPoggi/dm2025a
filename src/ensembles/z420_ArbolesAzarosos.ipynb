{
  "nbformat": 4,
  "nbformat_minor": 0,
  "metadata": {
    "colab": {
      "provenance": []
    },
    "kernelspec": {
      "name": "ir",
      "display_name": "R"
    },
    "language_info": {
      "name": "R"
    }
  },
  "cells": [
    {
      "cell_type": "markdown",
      "source": [
        "# 4. Ensembles de Arboles de Decision"
      ],
      "metadata": {
        "id": "kgJ0E--L0n9s"
      }
    },
    {
      "cell_type": "markdown",
      "source": [
        "Un arbol de decisión es un modelo débil, el aumento del poder predictivo proviene al ensamblar varios arboles de decisión.\n",
        "<br> Si promedio n arboles identicos, el resultados es exactamente el mismo que utilizar un solo arbol, necesito PERTURBAR cada arbol para disponer de variablidad"
      ],
      "metadata": {
        "id": "PgLdmWznXWGZ"
      }
    },
    {
      "cell_type": "markdown",
      "source": [
        "la variabilidad provendrá de estas fuentes:\n",
        "\n",
        "\n",
        "*   Perturbar el dataset\n",
        "*   Perturbar el algoritmo del arbol\n",
        "*   Perturbar el dataset y el algoritmo del arbol al mismo tiempo"
      ],
      "metadata": {
        "id": "FTnxMEOqYRXZ"
      }
    },
    {
      "cell_type": "markdown",
      "source": [
        "Se verán estos tres algoritmos\n",
        "\n",
        "\n",
        "*   Arboles Azarosos\n",
        "*   Random Forest\n",
        "*   Gradient Boosting of Decision Trees"
      ],
      "metadata": {
        "id": "DHp1h9m-X7Rc"
      }
    },
    {
      "cell_type": "markdown",
      "metadata": {
        "id": "3m0ySYPfa7Zr"
      },
      "source": [
        "#### 4.01 Seteo del ambiente en Google Colab"
      ]
    },
    {
      "cell_type": "markdown",
      "metadata": {
        "id": "NGY7H9xza7Zr"
      },
      "source": [
        "Esta parte se debe correr con el runtime en Python3\n",
        "<br>Ir al menu, Runtime -> Change Runtime Type -> Runtime type ->  **Python 3**"
      ]
    },
    {
      "cell_type": "markdown",
      "metadata": {
        "id": "7PupIBNba7Zr"
      },
      "source": [
        "Conectar la virtual machine donde esta corriendo Google Colab con el  Google Drive, para poder tener persistencia de archivos"
      ]
    },
    {
      "cell_type": "code",
      "execution_count": 1,
      "metadata": {
        "id": "9LpZCst5a7Zs",
        "colab": {
          "base_uri": "https://localhost:8080/"
        },
        "outputId": "b64fc1cf-9317-4d17-f293-a0819faa49f7"
      },
      "outputs": [
        {
          "output_type": "stream",
          "name": "stdout",
          "text": [
            "Mounted at /content/.drive\n"
          ]
        }
      ],
      "source": [
        "# primero establecer el Runtime de Python 3\n",
        "from google.colab import drive\n",
        "drive.mount('/content/.drive')"
      ]
    },
    {
      "cell_type": "markdown",
      "metadata": {
        "id": "JYC_F-wla7Zs"
      },
      "source": [
        "Para correr la siguiente celda es fundamental en Arranque en Frio haber copiado el archivo kaggle.json al Google Drive, en la carpeta indicada en el instructivo\n",
        "\n",
        "<br>los siguientes comando estan en shell script de Linux\n",
        "*   Crear las carpetas en el Google Drive\n",
        "*   \"instalar\" el archivo kaggle.json desde el Google Drive a la virtual machine para que pueda ser utilizado por la libreria  kaggle de Python\n",
        "*   Bajar el  **dataset_pequeno**  al  Google Drive  y tambien al disco local de la virtual machine que esta corriendo Google Colab\n",
        "\n"
      ]
    },
    {
      "cell_type": "code",
      "execution_count": 2,
      "metadata": {
        "id": "XWLelftXa7Zt",
        "colab": {
          "base_uri": "https://localhost:8080/"
        },
        "outputId": "aa491f43-9430-412c-dcb9-d7318e900077"
      },
      "outputs": [
        {
          "output_type": "execute_result",
          "data": {
            "text/plain": []
          },
          "metadata": {},
          "execution_count": 2
        }
      ],
      "source": [
        "%%shell\n",
        "\n",
        "mkdir -p \"/content/.drive/My Drive/dm\"\n",
        "mkdir -p \"/content/buckets\"\n",
        "ln -s \"/content/.drive/My Drive/dm\" /content/buckets/b1\n",
        "\n",
        "mkdir -p ~/.kaggle\n",
        "cp /content/buckets/b1/kaggle/kaggle.json  ~/.kaggle\n",
        "chmod 600 ~/.kaggle/kaggle.json\n",
        "\n",
        "\n",
        "mkdir -p /content/buckets/b1/exp\n",
        "mkdir -p /content/buckets/b1/datasets\n",
        "mkdir -p /content/datasets\n",
        "\n",
        "\n",
        "\n",
        "archivo_origen=\"https://storage.googleapis.com/open-courses/itba2025-8d0a/dataset_pequeno.csv\"\n",
        "archivo_destino=\"/content/datasets/dataset_pequeno.csv\"\n",
        "archivo_destino_bucket=\"/content/buckets/b1/datasets/dataset_pequeno.csv\"\n",
        "\n",
        "if ! test -f $archivo_destino_bucket; then\n",
        "  wget  $archivo_origen  -O $archivo_destino_bucket\n",
        "fi\n",
        "\n",
        "\n",
        "if ! test -f $archivo_destino; then\n",
        "  cp  $archivo_destino_bucket  $archivo_destino\n",
        "fi\n",
        "\n"
      ]
    },
    {
      "cell_type": "markdown",
      "metadata": {
        "id": "Pc9x9DnsNlZv"
      },
      "source": [
        "\n",
        "\n",
        "---\n",
        "\n"
      ]
    },
    {
      "cell_type": "markdown",
      "source": [
        "## 4.02 Arboles Azarosos"
      ],
      "metadata": {
        "id": "qq0KVOtq1K5D"
      }
    },
    {
      "cell_type": "markdown",
      "source": [
        "Arboles Azarosos es el nombre de un algoritmo trivial (por favor NO confundir con Random Forest)\n",
        "Qué tipo de perturbaciones se realizan en Arboles Azarosos\n",
        "* Se perturba el dataset\n",
        "* No se perturba el algoritmo, es siempre rpart original"
      ],
      "metadata": {
        "id": "HsNJjhlRo9jM"
      }
    },
    {
      "cell_type": "markdown",
      "source": [
        "Cada  arbolito de  Arboles Azarosos se entrena sobre un dataset perturbado,  que tiene exactamente la misma cantidad de registros pero solo un subconjunto de los atributos (campos)  del dataset, tomados al azar, de los originales.\n",
        "<br> En esta primera corrida, se construira cada arbol en un dataset utilizando el 50% de los campos"
      ],
      "metadata": {
        "id": "rq2HC28CpXBR"
      }
    },
    {
      "cell_type": "markdown",
      "metadata": {
        "id": "eSU5vi00CPRS"
      },
      "source": [
        "Esta parte se debe correr con el runtime en lenguaje **R** Ir al menu, Runtime -> Change Runtime Type -> Runtime type -> R"
      ]
    },
    {
      "cell_type": "markdown",
      "metadata": {
        "id": "Zq8dySimCPRT"
      },
      "source": [
        "limpio el ambiente de R"
      ]
    },
    {
      "cell_type": "code",
      "source": [
        "format(Sys.time(), \"%a %b %d %X %Y\")"
      ],
      "metadata": {
        "id": "LrdtraBYJrsx",
        "colab": {
          "base_uri": "https://localhost:8080/",
          "height": 34
        },
        "outputId": "578e967f-497d-4d37-8a34-a7f390f731ca"
      },
      "execution_count": 6,
      "outputs": [
        {
          "output_type": "display_data",
          "data": {
            "text/html": [
              "'Fri Aug 01 09:12:25 PM 2025'"
            ],
            "text/markdown": "'Fri Aug 01 09:12:25 PM 2025'",
            "text/latex": "'Fri Aug 01 09:12:25 PM 2025'",
            "text/plain": [
              "[1] \"Fri Aug 01 09:12:25 PM 2025\""
            ]
          },
          "metadata": {}
        }
      ]
    },
    {
      "cell_type": "code",
      "execution_count": 7,
      "metadata": {
        "id": "1iE0U4_WCPRT",
        "colab": {
          "base_uri": "https://localhost:8080/",
          "height": 129
        },
        "outputId": "08bcc21c-2745-40f7-eb6d-87932ed3d7ed"
      },
      "outputs": [
        {
          "output_type": "display_data",
          "data": {
            "text/html": [
              "<table class=\"dataframe\">\n",
              "<caption>A matrix: 2 × 6 of type dbl</caption>\n",
              "<thead>\n",
              "\t<tr><th></th><th scope=col>used</th><th scope=col>(Mb)</th><th scope=col>gc trigger</th><th scope=col>(Mb)</th><th scope=col>max used</th><th scope=col>(Mb)</th></tr>\n",
              "</thead>\n",
              "<tbody>\n",
              "\t<tr><th scope=row>Ncells</th><td> 661860</td><td>35.4</td><td>1454480</td><td>77.7</td><td>1454480</td><td>77.7</td></tr>\n",
              "\t<tr><th scope=row>Vcells</th><td>1230783</td><td> 9.4</td><td>8388608</td><td>64.0</td><td>2015603</td><td>15.4</td></tr>\n",
              "</tbody>\n",
              "</table>\n"
            ],
            "text/markdown": "\nA matrix: 2 × 6 of type dbl\n\n| <!--/--> | used | (Mb) | gc trigger | (Mb) | max used | (Mb) |\n|---|---|---|---|---|---|---|\n| Ncells |  661860 | 35.4 | 1454480 | 77.7 | 1454480 | 77.7 |\n| Vcells | 1230783 |  9.4 | 8388608 | 64.0 | 2015603 | 15.4 |\n\n",
            "text/latex": "A matrix: 2 × 6 of type dbl\n\\begin{tabular}{r|llllll}\n  & used & (Mb) & gc trigger & (Mb) & max used & (Mb)\\\\\n\\hline\n\tNcells &  661860 & 35.4 & 1454480 & 77.7 & 1454480 & 77.7\\\\\n\tVcells & 1230783 &  9.4 & 8388608 & 64.0 & 2015603 & 15.4\\\\\n\\end{tabular}\n",
            "text/plain": [
              "       used    (Mb) gc trigger (Mb) max used (Mb)\n",
              "Ncells  661860 35.4 1454480    77.7 1454480  77.7\n",
              "Vcells 1230783  9.4 8388608    64.0 2015603  15.4"
            ]
          },
          "metadata": {}
        }
      ],
      "source": [
        "# limpio la memoria\n",
        "rm(list=ls(all.names=TRUE)) # remove all objects\n",
        "gc(full=TRUE, verbose=FALSE) # garbage collection"
      ]
    },
    {
      "cell_type": "code",
      "execution_count": 8,
      "metadata": {
        "id": "BJDwdD0dCPRU",
        "colab": {
          "base_uri": "https://localhost:8080/"
        },
        "outputId": "01b7aaca-bf00-4269-866b-0e7f51900908"
      },
      "outputs": [
        {
          "output_type": "stream",
          "name": "stderr",
          "text": [
            "Loading required package: data.table\n",
            "\n",
            "Loading required package: rpart\n",
            "\n"
          ]
        }
      ],
      "source": [
        "# cargo las librerias que necesito\n",
        "require(\"data.table\")\n",
        "require(\"rpart\")"
      ]
    },
    {
      "cell_type": "markdown",
      "source": [
        "Aqui debe cargar SU semilla primigenia"
      ],
      "metadata": {
        "id": "M8-Pyp6CCPRU"
      }
    },
    {
      "cell_type": "code",
      "source": [
        "PARAM <- list()\n",
        "PARAM$semilla_primigenia <- 458327\n",
        "\n",
        "# parametros  arbol\n",
        "# entreno cada arbol con solo 50% de las variables variables\n",
        "#  por ahora, es fijo\n",
        "PARAM$feature_fraction <- 0.5\n",
        "\n",
        "PARAM$rpart$cp <- -1\n",
        "PARAM$rpart$minsplit <- 100\n",
        "PARAM$rpart$minbucket <- 40\n",
        "PARAM$rpart$maxdepth <- 8\n",
        "\n",
        "# voy a generar 512 arboles,\n",
        "#  a mas arboles mas tiempo de proceso y MEJOR MODELO,\n",
        "#  pero ganancias marginales\n",
        "PARAM$num_trees_max <- 512"
      ],
      "metadata": {
        "id": "peRH7ySLCPRV"
      },
      "execution_count": 9,
      "outputs": []
    },
    {
      "cell_type": "code",
      "source": [
        "# carpeta de trabajo\n",
        "setwd(\"/content/buckets/b1/exp\")\n",
        "experimento <- \"exp4022\"\n",
        "dir.create(experimento, showWarnings=FALSE)\n",
        "setwd( paste0(\"/content/buckets/b1/exp/\", experimento ))"
      ],
      "metadata": {
        "id": "1gZD6ZMvCPRV"
      },
      "execution_count": 10,
      "outputs": []
    },
    {
      "cell_type": "code",
      "source": [
        "# lectura del dataset\n",
        "dataset <- fread(\"/content/datasets/dataset_pequeno.csv\")"
      ],
      "metadata": {
        "id": "Xi0emX2ECPRV"
      },
      "execution_count": 11,
      "outputs": []
    },
    {
      "cell_type": "code",
      "source": [
        "# defino los dataset de entrenamiento y aplicacion\n",
        "dtrain <- dataset[foto_mes == 202107]\n",
        "dfuture <- dataset[foto_mes == 202109]\n",
        "\n",
        "# arreglo clase_ternaria por algun distraido \"\"\n",
        "dfuture[, clase_ternaria := NA ]"
      ],
      "metadata": {
        "id": "RA3cSJ6KaGwA"
      },
      "execution_count": 12,
      "outputs": []
    },
    {
      "cell_type": "code",
      "source": [
        "# Establezco cuales son los campos que puedo usar para la prediccion\n",
        "# el copy() es por la Lazy Evaluation\n",
        "campos_buenos <- copy(setdiff(colnames(dtrain), c(\"clase_ternaria\")))"
      ],
      "metadata": {
        "id": "EByLkVMwaC8K"
      },
      "execution_count": 13,
      "outputs": []
    },
    {
      "cell_type": "code",
      "source": [
        "# que tamanos de ensemble grabo a disco\n",
        "grabar <- c(1, 2, 4, 8, 16, 32, 64, 128, 256, 384, 512)"
      ],
      "metadata": {
        "id": "rHMrHwwpaB8D"
      },
      "execution_count": 14,
      "outputs": []
    },
    {
      "cell_type": "code",
      "source": [
        "tb_prediccion <- dfuture[, list(numero_de_cliente)]\n",
        "# aqui se va acumulando la probabilidad del ensemble\n",
        "tb_prediccion[, prob_acumulada := 0]"
      ],
      "metadata": {
        "id": "bJHS2aeghw6I"
      },
      "execution_count": 15,
      "outputs": []
    },
    {
      "cell_type": "code",
      "source": [
        "set.seed(PARAM$semilla_primigenia) # Establezco la semilla aleatoria"
      ],
      "metadata": {
        "id": "H_DGUB_fhzHr"
      },
      "execution_count": 16,
      "outputs": []
    },
    {
      "cell_type": "code",
      "source": [
        "file.copy(\"/content/kaggle.json\", \"~/.kaggle/kaggle.json\", overwrite = TRUE)\n"
      ],
      "metadata": {
        "colab": {
          "base_uri": "https://localhost:8080/",
          "height": 34
        },
        "id": "HvVJjQ7kehGn",
        "outputId": "e27b5ac1-7ea1-4b35-dd6e-8e62171d2f12"
      },
      "execution_count": 17,
      "outputs": [
        {
          "output_type": "display_data",
          "data": {
            "text/html": [
              "TRUE"
            ],
            "text/markdown": "TRUE",
            "text/latex": "TRUE",
            "text/plain": [
              "[1] TRUE"
            ]
          },
          "metadata": {}
        }
      ]
    },
    {
      "cell_type": "code",
      "source": [
        "Sys.chmod(\"~/.kaggle/kaggle.json\", mode = \"600\")\n"
      ],
      "metadata": {
        "id": "IhbMVm82eixZ"
      },
      "execution_count": 18,
      "outputs": []
    },
    {
      "cell_type": "code",
      "source": [
        "system(\"kaggle competitions list\", intern = TRUE)\n"
      ],
      "metadata": {
        "colab": {
          "base_uri": "https://localhost:8080/",
          "height": 399
        },
        "id": "jk6gF5j9ekja",
        "outputId": "980705b4-1474-4e59-ac59-5a68be1cac64"
      },
      "execution_count": 19,
      "outputs": [
        {
          "output_type": "display_data",
          "data": {
            "text/html": [
              "<style>\n",
              ".list-inline {list-style: none; margin:0; padding: 0}\n",
              ".list-inline>li {display: inline-block}\n",
              ".list-inline>li:not(:last-child)::after {content: \"\\00b7\"; padding: 0 .5ex}\n",
              "</style>\n",
              "<ol class=list-inline><li><span style=white-space:pre-wrap>'ref                                                                              deadline             category                reward  teamCount  userHasEntered  '</span></li><li><span style=white-space:pre-wrap>'-------------------------------------------------------------------------------  -------------------  ---------------  -------------  ---------  --------------  '</span></li><li><span style=white-space:pre-wrap>'https://www.kaggle.com/competitions/arc-prize-2025                               2025-11-03 23:59:00  Featured         1,000,000 Usd        758           False  '</span></li><li><span style=white-space:pre-wrap>'https://www.kaggle.com/competitions/google-gemma-3n-hackathon                    2025-08-06 23:59:00  Featured           150,000 Usd          0           False  '</span></li><li><span style=white-space:pre-wrap>'https://www.kaggle.com/competitions/make-data-count-finding-data-references      2025-09-09 23:59:00  Research           100,000 Usd        874           False  '</span></li><li><span style=white-space:pre-wrap>'https://www.kaggle.com/competitions/jigsaw-agile-community-rules                 2025-10-24 06:59:00  Featured           100,000 Usd        567           False  '</span></li><li><span style=white-space:pre-wrap>'https://www.kaggle.com/competitions/mitsui-commodity-prediction-challenge        2025-10-06 23:59:00  Featured           100,000 Usd        295           False  '</span></li><li><span style=white-space:pre-wrap>'https://www.kaggle.com/competitions/google-code-golf-2025                        2025-10-30 23:59:00  Research           100,000 Usd         70           False  '</span></li><li><span style=white-space:pre-wrap>'https://www.kaggle.com/competitions/map-charting-student-math-misunderstandings  2025-10-15 23:59:00  Featured            55,000 Usd        729           False  '</span></li><li><span style=white-space:pre-wrap>'https://www.kaggle.com/competitions/cmi-detect-behavior-with-sensor-data         2025-09-02 23:59:00  Featured            50,000 Usd       2204           False  '</span></li><li><span style=white-space:pre-wrap>'https://www.kaggle.com/competitions/neurips-open-polymer-prediction-2025         2025-09-15 23:59:00  Featured            50,000 Usd       1478           False  '</span></li><li><span style=white-space:pre-wrap>'https://www.kaggle.com/competitions/ariel-data-challenge-2025                    2025-09-24 23:59:00  Featured            50,000 Usd        406           False  '</span></li><li><span style=white-space:pre-wrap>'https://www.kaggle.com/competitions/rsna-intracranial-aneurysm-detection         2025-10-14 23:59:00  Featured            50,000 Usd        117           False  '</span></li><li><span style=white-space:pre-wrap>'https://www.kaggle.com/competitions/playground-series-s5e8                       2025-08-31 23:59:00  Playground                Swag        238           False  '</span></li><li><span style=white-space:pre-wrap>'https://www.kaggle.com/competitions/titanic                                      2030-01-01 00:00:00  Getting Started      Knowledge      15072           False  '</span></li><li><span style=white-space:pre-wrap>'https://www.kaggle.com/competitions/home-data-for-ml-course                      2030-01-01 23:59:00  Getting Started      Knowledge       5985           False  '</span></li><li><span style=white-space:pre-wrap>'https://www.kaggle.com/competitions/house-prices-advanced-regression-techniques  2030-01-01 00:00:00  Getting Started      Knowledge       4544           False  '</span></li><li><span style=white-space:pre-wrap>'https://www.kaggle.com/competitions/spaceship-titanic                            2030-01-01 00:00:00  Getting Started      Knowledge       1962           False  '</span></li><li><span style=white-space:pre-wrap>'https://www.kaggle.com/competitions/digit-recognizer                             2030-01-01 00:00:00  Getting Started      Knowledge       1106           False  '</span></li><li><span style=white-space:pre-wrap>'https://www.kaggle.com/competitions/nlp-getting-started                          2030-01-01 00:00:00  Getting Started      Knowledge        797           False  '</span></li><li><span style=white-space:pre-wrap>'https://www.kaggle.com/competitions/store-sales-time-series-forecasting          2030-06-30 23:59:00  Getting Started      Knowledge        717           False  '</span></li><li><span style=white-space:pre-wrap>'https://www.kaggle.com/competitions/llm-classification-finetuning                2030-07-01 23:59:00  Getting Started      Knowledge        335           False  '</span></li></ol>\n"
            ],
            "text/markdown": "1. <span style=white-space:pre-wrap>'ref                                                                              deadline             category                reward  teamCount  userHasEntered  '</span>\n2. <span style=white-space:pre-wrap>'-------------------------------------------------------------------------------  -------------------  ---------------  -------------  ---------  --------------  '</span>\n3. <span style=white-space:pre-wrap>'https://www.kaggle.com/competitions/arc-prize-2025                               2025-11-03 23:59:00  Featured         1,000,000 Usd        758           False  '</span>\n4. <span style=white-space:pre-wrap>'https://www.kaggle.com/competitions/google-gemma-3n-hackathon                    2025-08-06 23:59:00  Featured           150,000 Usd          0           False  '</span>\n5. <span style=white-space:pre-wrap>'https://www.kaggle.com/competitions/make-data-count-finding-data-references      2025-09-09 23:59:00  Research           100,000 Usd        874           False  '</span>\n6. <span style=white-space:pre-wrap>'https://www.kaggle.com/competitions/jigsaw-agile-community-rules                 2025-10-24 06:59:00  Featured           100,000 Usd        567           False  '</span>\n7. <span style=white-space:pre-wrap>'https://www.kaggle.com/competitions/mitsui-commodity-prediction-challenge        2025-10-06 23:59:00  Featured           100,000 Usd        295           False  '</span>\n8. <span style=white-space:pre-wrap>'https://www.kaggle.com/competitions/google-code-golf-2025                        2025-10-30 23:59:00  Research           100,000 Usd         70           False  '</span>\n9. <span style=white-space:pre-wrap>'https://www.kaggle.com/competitions/map-charting-student-math-misunderstandings  2025-10-15 23:59:00  Featured            55,000 Usd        729           False  '</span>\n10. <span style=white-space:pre-wrap>'https://www.kaggle.com/competitions/cmi-detect-behavior-with-sensor-data         2025-09-02 23:59:00  Featured            50,000 Usd       2204           False  '</span>\n11. <span style=white-space:pre-wrap>'https://www.kaggle.com/competitions/neurips-open-polymer-prediction-2025         2025-09-15 23:59:00  Featured            50,000 Usd       1478           False  '</span>\n12. <span style=white-space:pre-wrap>'https://www.kaggle.com/competitions/ariel-data-challenge-2025                    2025-09-24 23:59:00  Featured            50,000 Usd        406           False  '</span>\n13. <span style=white-space:pre-wrap>'https://www.kaggle.com/competitions/rsna-intracranial-aneurysm-detection         2025-10-14 23:59:00  Featured            50,000 Usd        117           False  '</span>\n14. <span style=white-space:pre-wrap>'https://www.kaggle.com/competitions/playground-series-s5e8                       2025-08-31 23:59:00  Playground                Swag        238           False  '</span>\n15. <span style=white-space:pre-wrap>'https://www.kaggle.com/competitions/titanic                                      2030-01-01 00:00:00  Getting Started      Knowledge      15072           False  '</span>\n16. <span style=white-space:pre-wrap>'https://www.kaggle.com/competitions/home-data-for-ml-course                      2030-01-01 23:59:00  Getting Started      Knowledge       5985           False  '</span>\n17. <span style=white-space:pre-wrap>'https://www.kaggle.com/competitions/house-prices-advanced-regression-techniques  2030-01-01 00:00:00  Getting Started      Knowledge       4544           False  '</span>\n18. <span style=white-space:pre-wrap>'https://www.kaggle.com/competitions/spaceship-titanic                            2030-01-01 00:00:00  Getting Started      Knowledge       1962           False  '</span>\n19. <span style=white-space:pre-wrap>'https://www.kaggle.com/competitions/digit-recognizer                             2030-01-01 00:00:00  Getting Started      Knowledge       1106           False  '</span>\n20. <span style=white-space:pre-wrap>'https://www.kaggle.com/competitions/nlp-getting-started                          2030-01-01 00:00:00  Getting Started      Knowledge        797           False  '</span>\n21. <span style=white-space:pre-wrap>'https://www.kaggle.com/competitions/store-sales-time-series-forecasting          2030-06-30 23:59:00  Getting Started      Knowledge        717           False  '</span>\n22. <span style=white-space:pre-wrap>'https://www.kaggle.com/competitions/llm-classification-finetuning                2030-07-01 23:59:00  Getting Started      Knowledge        335           False  '</span>\n\n\n",
            "text/latex": "\\begin{enumerate*}\n\\item 'ref                                                                              deadline             category                reward  teamCount  userHasEntered  '\n\\item '-------------------------------------------------------------------------------  -------------------  ---------------  -------------  ---------  --------------  '\n\\item 'https://www.kaggle.com/competitions/arc-prize-2025                               2025-11-03 23:59:00  Featured         1,000,000 Usd        758           False  '\n\\item 'https://www.kaggle.com/competitions/google-gemma-3n-hackathon                    2025-08-06 23:59:00  Featured           150,000 Usd          0           False  '\n\\item 'https://www.kaggle.com/competitions/make-data-count-finding-data-references      2025-09-09 23:59:00  Research           100,000 Usd        874           False  '\n\\item 'https://www.kaggle.com/competitions/jigsaw-agile-community-rules                 2025-10-24 06:59:00  Featured           100,000 Usd        567           False  '\n\\item 'https://www.kaggle.com/competitions/mitsui-commodity-prediction-challenge        2025-10-06 23:59:00  Featured           100,000 Usd        295           False  '\n\\item 'https://www.kaggle.com/competitions/google-code-golf-2025                        2025-10-30 23:59:00  Research           100,000 Usd         70           False  '\n\\item 'https://www.kaggle.com/competitions/map-charting-student-math-misunderstandings  2025-10-15 23:59:00  Featured            55,000 Usd        729           False  '\n\\item 'https://www.kaggle.com/competitions/cmi-detect-behavior-with-sensor-data         2025-09-02 23:59:00  Featured            50,000 Usd       2204           False  '\n\\item 'https://www.kaggle.com/competitions/neurips-open-polymer-prediction-2025         2025-09-15 23:59:00  Featured            50,000 Usd       1478           False  '\n\\item 'https://www.kaggle.com/competitions/ariel-data-challenge-2025                    2025-09-24 23:59:00  Featured            50,000 Usd        406           False  '\n\\item 'https://www.kaggle.com/competitions/rsna-intracranial-aneurysm-detection         2025-10-14 23:59:00  Featured            50,000 Usd        117           False  '\n\\item 'https://www.kaggle.com/competitions/playground-series-s5e8                       2025-08-31 23:59:00  Playground                Swag        238           False  '\n\\item 'https://www.kaggle.com/competitions/titanic                                      2030-01-01 00:00:00  Getting Started      Knowledge      15072           False  '\n\\item 'https://www.kaggle.com/competitions/home-data-for-ml-course                      2030-01-01 23:59:00  Getting Started      Knowledge       5985           False  '\n\\item 'https://www.kaggle.com/competitions/house-prices-advanced-regression-techniques  2030-01-01 00:00:00  Getting Started      Knowledge       4544           False  '\n\\item 'https://www.kaggle.com/competitions/spaceship-titanic                            2030-01-01 00:00:00  Getting Started      Knowledge       1962           False  '\n\\item 'https://www.kaggle.com/competitions/digit-recognizer                             2030-01-01 00:00:00  Getting Started      Knowledge       1106           False  '\n\\item 'https://www.kaggle.com/competitions/nlp-getting-started                          2030-01-01 00:00:00  Getting Started      Knowledge        797           False  '\n\\item 'https://www.kaggle.com/competitions/store-sales-time-series-forecasting          2030-06-30 23:59:00  Getting Started      Knowledge        717           False  '\n\\item 'https://www.kaggle.com/competitions/llm-classification-finetuning                2030-07-01 23:59:00  Getting Started      Knowledge        335           False  '\n\\end{enumerate*}\n",
            "text/plain": [
              " [1] \"ref                                                                              deadline             category                reward  teamCount  userHasEntered  \"\n",
              " [2] \"-------------------------------------------------------------------------------  -------------------  ---------------  -------------  ---------  --------------  \"\n",
              " [3] \"https://www.kaggle.com/competitions/arc-prize-2025                               2025-11-03 23:59:00  Featured         1,000,000 Usd        758           False  \"\n",
              " [4] \"https://www.kaggle.com/competitions/google-gemma-3n-hackathon                    2025-08-06 23:59:00  Featured           150,000 Usd          0           False  \"\n",
              " [5] \"https://www.kaggle.com/competitions/make-data-count-finding-data-references      2025-09-09 23:59:00  Research           100,000 Usd        874           False  \"\n",
              " [6] \"https://www.kaggle.com/competitions/jigsaw-agile-community-rules                 2025-10-24 06:59:00  Featured           100,000 Usd        567           False  \"\n",
              " [7] \"https://www.kaggle.com/competitions/mitsui-commodity-prediction-challenge        2025-10-06 23:59:00  Featured           100,000 Usd        295           False  \"\n",
              " [8] \"https://www.kaggle.com/competitions/google-code-golf-2025                        2025-10-30 23:59:00  Research           100,000 Usd         70           False  \"\n",
              " [9] \"https://www.kaggle.com/competitions/map-charting-student-math-misunderstandings  2025-10-15 23:59:00  Featured            55,000 Usd        729           False  \"\n",
              "[10] \"https://www.kaggle.com/competitions/cmi-detect-behavior-with-sensor-data         2025-09-02 23:59:00  Featured            50,000 Usd       2204           False  \"\n",
              "[11] \"https://www.kaggle.com/competitions/neurips-open-polymer-prediction-2025         2025-09-15 23:59:00  Featured            50,000 Usd       1478           False  \"\n",
              "[12] \"https://www.kaggle.com/competitions/ariel-data-challenge-2025                    2025-09-24 23:59:00  Featured            50,000 Usd        406           False  \"\n",
              "[13] \"https://www.kaggle.com/competitions/rsna-intracranial-aneurysm-detection         2025-10-14 23:59:00  Featured            50,000 Usd        117           False  \"\n",
              "[14] \"https://www.kaggle.com/competitions/playground-series-s5e8                       2025-08-31 23:59:00  Playground                Swag        238           False  \"\n",
              "[15] \"https://www.kaggle.com/competitions/titanic                                      2030-01-01 00:00:00  Getting Started      Knowledge      15072           False  \"\n",
              "[16] \"https://www.kaggle.com/competitions/home-data-for-ml-course                      2030-01-01 23:59:00  Getting Started      Knowledge       5985           False  \"\n",
              "[17] \"https://www.kaggle.com/competitions/house-prices-advanced-regression-techniques  2030-01-01 00:00:00  Getting Started      Knowledge       4544           False  \"\n",
              "[18] \"https://www.kaggle.com/competitions/spaceship-titanic                            2030-01-01 00:00:00  Getting Started      Knowledge       1962           False  \"\n",
              "[19] \"https://www.kaggle.com/competitions/digit-recognizer                             2030-01-01 00:00:00  Getting Started      Knowledge       1106           False  \"\n",
              "[20] \"https://www.kaggle.com/competitions/nlp-getting-started                          2030-01-01 00:00:00  Getting Started      Knowledge        797           False  \"\n",
              "[21] \"https://www.kaggle.com/competitions/store-sales-time-series-forecasting          2030-06-30 23:59:00  Getting Started      Knowledge        717           False  \"\n",
              "[22] \"https://www.kaggle.com/competitions/llm-classification-finetuning                2030-07-01 23:59:00  Getting Started      Knowledge        335           False  \""
            ]
          },
          "metadata": {}
        }
      ]
    },
    {
      "cell_type": "code",
      "source": [
        "for (arbolito in seq(PARAM$num_trees_max) ) {\n",
        "  message( arbolito, \" \")\n",
        "  qty_campos_a_utilizar <- as.integer(length(campos_buenos)\n",
        "    * PARAM$feature_fraction)\n",
        "\n",
        "  # elijo los campos al azar\n",
        "  campos_random <- sample(campos_buenos, qty_campos_a_utilizar)\n",
        "\n",
        "  # paso de un vector a un string con los elementos\n",
        "  # separados por un signo de \"+\"\n",
        "  # este hace falta para la formula\n",
        "  campos_random <- paste(campos_random, collapse= \" + \")\n",
        "\n",
        "  # armo la formula para rpart\n",
        "  formulita <- paste0(\"clase_ternaria ~ \", campos_random)\n",
        "\n",
        "  # genero el arbol de decision\n",
        "  modelo <- rpart(formulita,\n",
        "    data= dtrain,\n",
        "    xval= 0,\n",
        "    control= PARAM$rpart\n",
        "  )\n",
        "\n",
        "  # aplico el modelo a los datos que no tienen clase\n",
        "  prediccion <- predict(modelo, dfuture, type= \"prob\")\n",
        "\n",
        "  tb_prediccion[, prob_acumulada := prob_acumulada + prediccion[, \"BAJA+2\"]]\n",
        "\n",
        "  if (arbolito %in% grabar) {\n",
        "    umbral_corte <- (1 / 40) * arbolito\n",
        "    tb_prediccion[, Predicted := as.numeric(prob_acumulada > umbral_corte)]\n",
        "\n",
        "    archivo_kaggle <- paste0(\n",
        "        \"KA420_\",\n",
        "        sprintf(\"%.3d\", arbolito), # para que tenga ceros adelante\n",
        "        \".csv\"\n",
        "      )\n",
        "\n",
        "    # grabo el archivo\n",
        "    fwrite( tb_prediccion[, list(numero_de_cliente, Predicted)],\n",
        "      file= archivo_kaggle,\n",
        "      sep= \",\"\n",
        "    )\n",
        "\n",
        "    # subida a Kaggle\n",
        "    comando <- \"kaggle competitions submit\"\n",
        "    competencia <- \"-c data-mining-analista-sr-2025-a\"\n",
        "    arch <- paste( \"-f\", archivo_kaggle)\n",
        "\n",
        "    mensaje <- paste0(\"-m 'cp=\", PARAM$rpart$cp, \"  minsplit=\", PARAM$rpart$minsplit, \"  minbucket=\", PARAM$rpart$minbucket, \" maxdepth=\", PARAM$rpart$maxdepth, \"'\" )\n",
        "    linea <- paste( comando, competencia, arch, mensaje)\n",
        "    salida <- system(linea, intern=TRUE)\n",
        "    cat(salida)\n",
        "  }\n",
        "}\n"
      ],
      "metadata": {
        "id": "j-xp2HQDhFmY",
        "colab": {
          "base_uri": "https://localhost:8080/"
        },
        "outputId": "752b6449-6e4f-428a-f152-c27e4b681b47"
      },
      "execution_count": null,
      "outputs": [
        {
          "output_type": "stream",
          "name": "stderr",
          "text": [
            "1 \n",
            "\n"
          ]
        },
        {
          "output_type": "stream",
          "name": "stdout",
          "text": [
            "Successfully submitted to Data Mining, Analista Sr 2025A"
          ]
        },
        {
          "output_type": "stream",
          "name": "stderr",
          "text": [
            "2 \n",
            "\n"
          ]
        },
        {
          "output_type": "stream",
          "name": "stdout",
          "text": [
            "Successfully submitted to Data Mining, Analista Sr 2025A"
          ]
        },
        {
          "output_type": "stream",
          "name": "stderr",
          "text": [
            "3 \n",
            "\n",
            "4 \n",
            "\n"
          ]
        },
        {
          "output_type": "stream",
          "name": "stdout",
          "text": [
            "Successfully submitted to Data Mining, Analista Sr 2025A"
          ]
        },
        {
          "output_type": "stream",
          "name": "stderr",
          "text": [
            "5 \n",
            "\n",
            "6 \n",
            "\n",
            "7 \n",
            "\n",
            "8 \n",
            "\n"
          ]
        },
        {
          "output_type": "stream",
          "name": "stdout",
          "text": [
            "Successfully submitted to Data Mining, Analista Sr 2025A"
          ]
        },
        {
          "output_type": "stream",
          "name": "stderr",
          "text": [
            "9 \n",
            "\n",
            "10 \n",
            "\n",
            "11 \n",
            "\n",
            "12 \n",
            "\n",
            "13 \n",
            "\n",
            "14 \n",
            "\n",
            "15 \n",
            "\n",
            "16 \n",
            "\n"
          ]
        },
        {
          "output_type": "stream",
          "name": "stdout",
          "text": [
            "Successfully submitted to Data Mining, Analista Sr 2025A"
          ]
        },
        {
          "output_type": "stream",
          "name": "stderr",
          "text": [
            "17 \n",
            "\n",
            "18 \n",
            "\n",
            "19 \n",
            "\n",
            "20 \n",
            "\n",
            "21 \n",
            "\n",
            "22 \n",
            "\n",
            "23 \n",
            "\n",
            "24 \n",
            "\n",
            "25 \n",
            "\n",
            "26 \n",
            "\n",
            "27 \n",
            "\n",
            "28 \n",
            "\n",
            "29 \n",
            "\n",
            "30 \n",
            "\n",
            "31 \n",
            "\n",
            "32 \n",
            "\n"
          ]
        },
        {
          "output_type": "stream",
          "name": "stdout",
          "text": [
            "Successfully submitted to Data Mining, Analista Sr 2025A"
          ]
        },
        {
          "output_type": "stream",
          "name": "stderr",
          "text": [
            "33 \n",
            "\n",
            "34 \n",
            "\n",
            "35 \n",
            "\n",
            "36 \n",
            "\n",
            "37 \n",
            "\n",
            "38 \n",
            "\n",
            "39 \n",
            "\n",
            "40 \n",
            "\n",
            "41 \n",
            "\n",
            "42 \n",
            "\n",
            "43 \n",
            "\n",
            "44 \n",
            "\n",
            "45 \n",
            "\n",
            "46 \n",
            "\n",
            "47 \n",
            "\n",
            "48 \n",
            "\n",
            "49 \n",
            "\n",
            "50 \n",
            "\n",
            "51 \n",
            "\n",
            "52 \n",
            "\n",
            "53 \n",
            "\n",
            "54 \n",
            "\n",
            "55 \n",
            "\n",
            "56 \n",
            "\n",
            "57 \n",
            "\n",
            "58 \n",
            "\n",
            "59 \n",
            "\n",
            "60 \n",
            "\n",
            "61 \n",
            "\n",
            "62 \n",
            "\n",
            "63 \n",
            "\n",
            "64 \n",
            "\n"
          ]
        },
        {
          "output_type": "stream",
          "name": "stdout",
          "text": [
            "Successfully submitted to Data Mining, Analista Sr 2025A"
          ]
        },
        {
          "output_type": "stream",
          "name": "stderr",
          "text": [
            "65 \n",
            "\n",
            "66 \n",
            "\n",
            "67 \n",
            "\n",
            "68 \n",
            "\n",
            "69 \n",
            "\n",
            "70 \n",
            "\n",
            "71 \n",
            "\n",
            "72 \n",
            "\n",
            "73 \n",
            "\n",
            "74 \n",
            "\n",
            "75 \n",
            "\n",
            "76 \n",
            "\n",
            "77 \n",
            "\n",
            "78 \n",
            "\n",
            "79 \n",
            "\n",
            "80 \n",
            "\n",
            "81 \n",
            "\n",
            "82 \n",
            "\n",
            "83 \n",
            "\n",
            "84 \n",
            "\n",
            "85 \n",
            "\n",
            "86 \n",
            "\n",
            "87 \n",
            "\n",
            "88 \n",
            "\n",
            "89 \n",
            "\n",
            "90 \n",
            "\n",
            "91 \n",
            "\n",
            "92 \n",
            "\n",
            "93 \n",
            "\n",
            "94 \n",
            "\n",
            "95 \n",
            "\n",
            "96 \n",
            "\n",
            "97 \n",
            "\n",
            "98 \n",
            "\n",
            "99 \n",
            "\n",
            "100 \n",
            "\n",
            "101 \n",
            "\n",
            "102 \n",
            "\n",
            "103 \n",
            "\n",
            "104 \n",
            "\n",
            "105 \n",
            "\n",
            "106 \n",
            "\n",
            "107 \n",
            "\n",
            "108 \n",
            "\n",
            "109 \n",
            "\n",
            "110 \n",
            "\n",
            "111 \n",
            "\n",
            "112 \n",
            "\n",
            "113 \n",
            "\n",
            "114 \n",
            "\n",
            "115 \n",
            "\n",
            "116 \n",
            "\n",
            "117 \n",
            "\n",
            "118 \n",
            "\n",
            "119 \n",
            "\n",
            "120 \n",
            "\n",
            "121 \n",
            "\n",
            "122 \n",
            "\n",
            "123 \n",
            "\n",
            "124 \n",
            "\n",
            "125 \n",
            "\n",
            "126 \n",
            "\n",
            "127 \n",
            "\n",
            "128 \n",
            "\n"
          ]
        },
        {
          "output_type": "stream",
          "name": "stdout",
          "text": [
            "Successfully submitted to Data Mining, Analista Sr 2025A"
          ]
        },
        {
          "output_type": "stream",
          "name": "stderr",
          "text": [
            "129 \n",
            "\n",
            "130 \n",
            "\n",
            "131 \n",
            "\n",
            "132 \n",
            "\n",
            "133 \n",
            "\n",
            "134 \n",
            "\n",
            "135 \n",
            "\n",
            "136 \n",
            "\n",
            "137 \n",
            "\n",
            "138 \n",
            "\n",
            "139 \n",
            "\n",
            "140 \n",
            "\n",
            "141 \n",
            "\n",
            "142 \n",
            "\n",
            "143 \n",
            "\n",
            "144 \n",
            "\n",
            "145 \n",
            "\n",
            "146 \n",
            "\n",
            "147 \n",
            "\n",
            "148 \n",
            "\n",
            "149 \n",
            "\n",
            "150 \n",
            "\n",
            "151 \n",
            "\n",
            "152 \n",
            "\n",
            "153 \n",
            "\n",
            "154 \n",
            "\n",
            "155 \n",
            "\n",
            "156 \n",
            "\n",
            "157 \n",
            "\n",
            "158 \n",
            "\n",
            "159 \n",
            "\n",
            "160 \n",
            "\n",
            "161 \n",
            "\n",
            "162 \n",
            "\n",
            "163 \n",
            "\n",
            "164 \n",
            "\n",
            "165 \n",
            "\n",
            "166 \n",
            "\n",
            "167 \n",
            "\n",
            "168 \n",
            "\n",
            "169 \n",
            "\n",
            "170 \n",
            "\n",
            "171 \n",
            "\n",
            "172 \n",
            "\n",
            "173 \n",
            "\n",
            "174 \n",
            "\n",
            "175 \n",
            "\n",
            "176 \n",
            "\n",
            "177 \n",
            "\n",
            "178 \n",
            "\n",
            "179 \n",
            "\n",
            "180 \n",
            "\n",
            "181 \n",
            "\n",
            "182 \n",
            "\n",
            "183 \n",
            "\n",
            "184 \n",
            "\n",
            "185 \n",
            "\n",
            "186 \n",
            "\n",
            "187 \n",
            "\n",
            "188 \n",
            "\n",
            "189 \n",
            "\n",
            "190 \n",
            "\n",
            "191 \n",
            "\n",
            "192 \n",
            "\n",
            "193 \n",
            "\n",
            "194 \n",
            "\n",
            "195 \n",
            "\n",
            "196 \n",
            "\n",
            "197 \n",
            "\n",
            "198 \n",
            "\n",
            "199 \n",
            "\n",
            "200 \n",
            "\n",
            "201 \n",
            "\n",
            "202 \n",
            "\n",
            "203 \n",
            "\n",
            "204 \n",
            "\n",
            "205 \n",
            "\n",
            "206 \n",
            "\n",
            "207 \n",
            "\n",
            "208 \n",
            "\n",
            "209 \n",
            "\n",
            "210 \n",
            "\n",
            "211 \n",
            "\n",
            "212 \n",
            "\n",
            "213 \n",
            "\n",
            "214 \n",
            "\n",
            "215 \n",
            "\n",
            "216 \n",
            "\n",
            "217 \n",
            "\n",
            "218 \n",
            "\n",
            "219 \n",
            "\n",
            "220 \n",
            "\n",
            "221 \n",
            "\n",
            "222 \n",
            "\n",
            "223 \n",
            "\n",
            "224 \n",
            "\n",
            "225 \n",
            "\n",
            "226 \n",
            "\n",
            "227 \n",
            "\n",
            "228 \n",
            "\n",
            "229 \n",
            "\n",
            "230 \n",
            "\n",
            "231 \n",
            "\n",
            "232 \n",
            "\n",
            "233 \n",
            "\n",
            "234 \n",
            "\n",
            "235 \n",
            "\n",
            "236 \n",
            "\n",
            "237 \n",
            "\n",
            "238 \n",
            "\n",
            "239 \n",
            "\n",
            "240 \n",
            "\n",
            "241 \n",
            "\n",
            "242 \n",
            "\n",
            "243 \n",
            "\n",
            "244 \n",
            "\n"
          ]
        }
      ]
    },
    {
      "cell_type": "code",
      "source": [
        "format(Sys.time(), \"%a %b %d %X %Y\")"
      ],
      "metadata": {
        "id": "lgmvRHcfJpls"
      },
      "execution_count": null,
      "outputs": []
    },
    {
      "cell_type": "markdown",
      "metadata": {
        "id": "UMr6Z1enOyd3"
      },
      "source": [
        "\n",
        "\n",
        "---\n",
        "\n"
      ]
    },
    {
      "cell_type": "code",
      "source": [],
      "metadata": {
        "id": "j9Xen9D4ikON"
      },
      "execution_count": null,
      "outputs": []
    }
  ]
}